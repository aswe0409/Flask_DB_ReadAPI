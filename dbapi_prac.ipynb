{
 "cells": [
  {
   "cell_type": "code",
   "execution_count": 1,
   "id": "86ba9a3f",
   "metadata": {},
   "outputs": [],
   "source": [
    "import cx_Oracle as cx\n",
    "\n",
    "conn = cx.connect(\"c##restroom\", \"restroom\",\"127.0.01:1521/XE\")"
   ]
  },
  {
   "cell_type": "code",
   "execution_count": 7,
   "id": "9fdc9c5c",
   "metadata": {},
   "outputs": [
    {
     "name": "stdout",
     "output_type": "stream",
     "text": [
      "[]\n"
     ]
    }
   ],
   "source": [
    "result = cur.fetchall()\n",
    "print(result)"
   ]
  },
  {
   "cell_type": "code",
   "execution_count": 13,
   "id": "d9c04cd4",
   "metadata": {},
   "outputs": [
    {
     "name": "stdout",
     "output_type": "stream",
     "text": [
      "('워커힐상가', '서울특별시 광진구 아차산로 635', '서울특별시 광진구 광장동 145-8', '상가', '서울특별시 광진구청', '02-450-7618', datetime.datetime(2023, 2, 10, 0, 0))\n"
     ]
    }
   ],
   "source": [
    "cur = conn.cursor()\n",
    "cur.execute(\"select * from restroom\")\n",
    "result3 = cur.fetchone()\n",
    "print(result3)\n",
    "# for c in cur:\n",
    "#     print(c)"
   ]
  },
  {
   "cell_type": "code",
   "execution_count": 8,
   "id": "5d1a76ce",
   "metadata": {},
   "outputs": [
    {
     "name": "stdout",
     "output_type": "stream",
     "text": [
      " * Serving Flask app \"__main__\" (lazy loading)\n",
      " * Environment: production\n",
      "\u001b[31m   WARNING: This is a development server. Do not use it in a production deployment.\u001b[0m\n",
      "\u001b[2m   Use a production WSGI server instead.\u001b[0m\n",
      " * Debug mode: off\n"
     ]
    },
    {
     "name": "stderr",
     "output_type": "stream",
     "text": [
      " * Running on http://127.0.0.1:5000/ (Press CTRL+C to quit)\n",
      "INFO:werkzeug: * Running on http://127.0.0.1:5000/ (Press CTRL+C to quit)\n",
      "127.0.0.1 - - [24/May/2023 16:38:36] \"GET / HTTP/1.1\" 200 -\n",
      "INFO:werkzeug:127.0.0.1 - - [24/May/2023 16:38:36] \"GET / HTTP/1.1\" 200 -\n",
      "127.0.0.1 - - [24/May/2023 16:38:39] \"GET / HTTP/1.1\" 200 -\n",
      "INFO:werkzeug:127.0.0.1 - - [24/May/2023 16:38:39] \"GET / HTTP/1.1\" 200 -\n"
     ]
    }
   ],
   "source": [
    "from flask import Flask, jsonify, render_template, request\n",
    "import cx_Oracle\n",
    "\n",
    "app = Flask(__name__)\n",
    "app.config['JSON_AS_ASCII'] = False\n",
    "\n",
    "# Oracle 데이터베이스 연결 설정\n",
    "connection = cx_Oracle.connect(\"c##restroom/restroom@127.0.0.1:1521/XE\")\n",
    "\n",
    "@app.route('/', methods=['GET', 'POST'])\n",
    "def search():\n",
    "    if request.method == 'POST':\n",
    "        if request.form.get('name'):\n",
    "            name = request.form.get('name')\n",
    "            cursor = connection.cursor()\n",
    "            query = \"SELECT * FROM restroom WHERE name LIKE '%' || :name || '%'\"\n",
    "            print(f\"@@@@@@@@@@@@@@@@@@@{name}\") #파라미터 잘 들어왔나 확인용\n",
    "            cursor.execute(query, name=name)\n",
    "            result = cursor.fetchall()\n",
    "            cursor.close()\n",
    "            return jsonify(restrooms=result)\n",
    "            #return render_template('search_results.html', restrooms=result)\n",
    "        \n",
    "        elif request.form.get('road_add'):\n",
    "            road_add = request.form.get('road_add')\n",
    "            cursor = connection.cursor()\n",
    "            query = \"SELECT * FROM restroom WHERE ROAD_ADD LIKE '%' || :road_add || '%'\"\n",
    "            print(f\"@@@@@@@@@@@@@@@@@@@{road_add}\")#파라미터 잘 들어왔나 확인용\n",
    "            cursor.execute(query, road_add=road_add)\n",
    "            result = cursor.fetchall()\n",
    "            cursor.close()\n",
    "            return jsonify(restrooms=result)\n",
    "            #return render_template('search_results.html', restrooms=result)     \n",
    "\n",
    "        elif request.form.get('old_add'):\n",
    "            old_add = request.form.get('old_add')\n",
    "            cursor = connection.cursor()\n",
    "            query = \"SELECT * FROM restroom WHERE ROAD_ADD LIKE '%' || :old_add || '%'\"\n",
    "            print(f\"@@@@@@@@@@@@@@@@@@@{old_add}\")#파라미터 잘 들어왔나 확인용\n",
    "            cursor.execute(query, old_add=old_add)\n",
    "            result = cursor.fetchall()\n",
    "            cursor.close()\n",
    "            return render_template('search_results.html', restrooms=result)   \n",
    "        \n",
    "        elif request.form.get('main_use'):\n",
    "            main_use = request.form.get('main_use')\n",
    "            cursor = connection.cursor()\n",
    "            query = \"SELECT * FROM restroom WHERE MAIN_USE LIKE '%' || :main_use || '%'\"\n",
    "            print(f\"@@@@@@@@@@@@@@@@@@@{main_use}\")#파라미터 잘 들어왔나 확인용\n",
    "            cursor.execute(query, main_use=main_use)\n",
    "            result = cursor.fetchall()\n",
    "            cursor.close()\n",
    "            return render_template('search_results.html', restrooms=result)   \n",
    "\n",
    "        elif request.form.get('manage'):\n",
    "            manage= request.form.get('manage')\n",
    "            cursor = connection.cursor()\n",
    "            query = \"SELECT * FROM restroom WHERE MANAGE LIKE '%' || :manage || '%'\"\n",
    "            print(f\"@@@@@@@@@@@@@@@@@@@{manage}\")#파라미터 잘 들어왔나 확인용\n",
    "            cursor.execute(query, manage=manage)\n",
    "            result = cursor.fetchall()\n",
    "            cursor.close()\n",
    "            return render_template('search_results.html', restrooms=result)   \n",
    "        \n",
    "        elif request.form.get('tel_num'):\n",
    "            tel_num= request.form.get('tel_num')\n",
    "            cursor = connection.cursor()\n",
    "            query = \"SELECT * FROM restroom WHERE TELNUM LIKE '%' || :tel_num || '%'\"\n",
    "            print(f\"@@@@@@@@@@@@@@@@@@@{tel_num}\")#파라미터 잘 들어왔나 확인용\n",
    "            cursor.execute(query, tel_num=tel_num)\n",
    "            result = cursor.fetchall()\n",
    "            cursor.close()\n",
    "            return render_template('search_results.html', restrooms=result)   \n",
    "           \n",
    "    return render_template('search.html')\n",
    "\n",
    "if __name__ == '__main__':\n",
    "    app.run()"
   ]
  },
  {
   "cell_type": "code",
   "execution_count": null,
   "id": "de6e93d6",
   "metadata": {},
   "outputs": [],
   "source": []
  }
 ],
 "metadata": {
  "kernelspec": {
   "display_name": "Python 3 (ipykernel)",
   "language": "python",
   "name": "python3"
  },
  "language_info": {
   "codemirror_mode": {
    "name": "ipython",
    "version": 3
   },
   "file_extension": ".py",
   "mimetype": "text/x-python",
   "name": "python",
   "nbconvert_exporter": "python",
   "pygments_lexer": "ipython3",
   "version": "3.9.12"
  }
 },
 "nbformat": 4,
 "nbformat_minor": 5
}
